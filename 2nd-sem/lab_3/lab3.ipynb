{
 "cells": [
  {
   "attachments": {},
   "cell_type": "markdown",
   "metadata": {},
   "source": [
    "# Лабораторная работа №3\n",
    "# Задача XI 9.3(б)\n",
    "$$\n",
    "\\begin{cases}\n",
    " y'' - x \\sqrt y = 0,  &  0 ≤ x ≤ 1\\\\ \n",
    " y(0) = 0 \\\\\n",
    " \\int^1_0 y(x) dx = 1\n",
    "\\end{cases}\n",
    "$$\n",
    "\n",
    "## В работе был реализован метод стрельбы для решения дифференциального уравнения."
   ]
  },
  {
   "cell_type": "code",
   "execution_count": 11,
   "metadata": {},
   "outputs": [],
   "source": [
    "import numpy as np\n",
    "from matplotlib import pyplot as plt\n",
    "\n",
    "x_0_integ = 0\n",
    "x_1_integ = 1\n",
    "h = 1e-3\n",
    "\n",
    "def f(x, vec):\n",
    "    y = vec[0]\n",
    "    a = vec[1]\n",
    "    return np.array([a, x * np.sqrt(y)])"
   ]
  },
  {
   "cell_type": "code",
   "execution_count": 12,
   "metadata": {},
   "outputs": [],
   "source": [
    "def RK_4(x, start_vector, h, number_move):                      \n",
    "    y = np.zeros((number_move, np.shape(start_vector)[0]))\n",
    "    y[0] = start_vector\n",
    "    sum_integral = 0   \n",
    "    \n",
    "    for i in range(0, number_move - 1):\n",
    "        k_1 = f(x[i], y[i])\n",
    "        k_2 = f(x[i] + h / 2, y[i] + k_1 * h / 2)\n",
    "        k_3 = f(x[i] + h / 2, y[i] + k_2 * h / 2)\n",
    "        k_4 = f(x[i] + h, y[i] + k_3 * h)\n",
    "\n",
    "        y[i + 1] = y[i] + h  * (k_1 + 2 * k_2 + 2 * k_3 + k_4) / 6\n",
    "    \n",
    "        if (i != 0):\n",
    "            sum_integral += (y[i][0] + y[i - 1][0]) / 2 * h\n",
    "        \n",
    "    return sum_integral, y   "
   ]
  },
  {
   "cell_type": "code",
   "execution_count": 13,
   "metadata": {},
   "outputs": [],
   "source": [
    "def draw_result(result, x):\n",
    "    plt.figure(figsize = (6, 6))\n",
    "    y, _ = result.T\n",
    "    plt.plot(x, y, color='red',  linewidth=2)\n",
    "    plt.ticklabel_format(style='plain')\n",
    "    plt.minorticks_on()\n",
    "    plt.grid(which='major', color='grey', linestyle='-')\n",
    "    plt.xlabel(r'$x$', fontsize=20)\n",
    "    plt.ylabel(r'$y$', fontsize=20)\n",
    "    plt.show()"
   ]
  },
  {
   "cell_type": "code",
   "execution_count": 14,
   "metadata": {},
   "outputs": [
    {
     "name": "stdout",
     "output_type": "stream",
     "text": [
      "integration result =  0.9999886279752808\n",
      "alpha =  1.9339999999999962\n"
     ]
    },
    {
     "data": {
      "image/png": "[encoded data removed]",
      "text/plain": [
       "<Figure size 600x600 with 1 Axes>"
      ]
     },
     "metadata": {},
     "output_type": "display_data"
    }
   ],
   "source": [
    "number_move = int((x_1_integ - x_0_integ) / h) + 1\n",
    "x = np.linspace(x_0_integ, x_1_integ, number_move)\n",
    "integral = 0\n",
    "y = np.empty((0), float)\n",
    "epsilon = 1e-4\n",
    "x_0 = 0\n",
    "y_0 = 0\n",
    "a_0 = 1.9\n",
    "\n",
    "while(True):\n",
    "    start_vector = np.array([y_0, a_0])\n",
    "    integral, y = RK_4(x, start_vector, h, number_move)\n",
    "    a_0 += h \n",
    "    if(abs(integral - 1.0) < epsilon):\n",
    "        print('integration result = ', integral)\n",
    "        break\n",
    "    \n",
    "print('alpha = ', a_0)\n",
    "draw_result(y, x)"
   ]
  }
 ],
 "metadata": {
  "interpreter": {
   "hash": "916dbcbb3f70747c44a77c7bcd40155683ae19c65e1c03b4aa3499c5328201f1"
  },
  "kernelspec": {
   "display_name": "Python 3 (ipykernel)",
   "language": "python",
   "name": "python3"
  },
  "language_info": {
   "codemirror_mode": {
    "name": "ipython",
    "version": 3
   },
   "file_extension": ".py",
   "mimetype": "text/x-python",
   "name": "python",
   "nbconvert_exporter": "python",
   "pygments_lexer": "ipython3",
   "version": "3.9.7"
  }
 },
 "nbformat": 4,
 "nbformat_minor": 2
}
